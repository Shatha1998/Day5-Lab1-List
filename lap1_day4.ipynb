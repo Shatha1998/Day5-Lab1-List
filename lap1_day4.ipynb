{
 "cells": [
  {
   "cell_type": "code",
   "execution_count": 6,
   "id": "e39adb95",
   "metadata": {},
   "outputs": [
    {
     "name": "stdout",
     "output_type": "stream",
     "text": [
      "139\n"
     ]
    }
   ],
   "source": [
    "list= [5, 4, 17, 19, 30, 2, 7, 10, 45]\n",
    "result=0\n",
    "for x in list:\n",
    "    result+=x\n",
    "print(result)\n"
   ]
  },
  {
   "cell_type": "code",
   "execution_count": 9,
   "id": "607e0531",
   "metadata": {},
   "outputs": [
    {
     "name": "stdout",
     "output_type": "stream",
     "text": [
      "45\n"
     ]
    }
   ],
   "source": [
    "list= [5, 4, 17, 19, 30, 2, 7, 10, 45]\n",
    "max=0\n",
    "for x in list:\n",
    "    if x>max:\n",
    "        max =x\n",
    "print(max)\n",
    "    "
   ]
  },
  {
   "cell_type": "code",
   "execution_count": 14,
   "id": "a0cd9864",
   "metadata": {},
   "outputs": [
    {
     "name": "stdout",
     "output_type": "stream",
     "text": [
      "[4, 30, 2, 10]\n"
     ]
    }
   ],
   "source": [
    "list= [5, 4, 17, 19, 30, 2, 7, 10, 45]\n",
    "evenlist=[x for x in list if x%2==0]\n",
    "print(evenlist)"
   ]
  },
  {
   "cell_type": "code",
   "execution_count": 12,
   "id": "abc84b3e",
   "metadata": {},
   "outputs": [
    {
     "name": "stdout",
     "output_type": "stream",
     "text": [
      "[5, 4, 17, 19, 30]\n"
     ]
    }
   ],
   "source": [
    "list= [5, 4, 17, 19, 30, 2, 7, 10, 45]\n",
    "print(list[:5])"
   ]
  },
  {
   "cell_type": "code",
   "execution_count": null,
   "id": "4ddaf47a",
   "metadata": {},
   "outputs": [],
   "source": []
  }
 ],
 "metadata": {
  "kernelspec": {
   "display_name": "Python 3 (ipykernel)",
   "language": "python",
   "name": "python3"
  },
  "language_info": {
   "codemirror_mode": {
    "name": "ipython",
    "version": 3
   },
   "file_extension": ".py",
   "mimetype": "text/x-python",
   "name": "python",
   "nbconvert_exporter": "python",
   "pygments_lexer": "ipython3",
   "version": "3.9.13"
  }
 },
 "nbformat": 4,
 "nbformat_minor": 5
}
